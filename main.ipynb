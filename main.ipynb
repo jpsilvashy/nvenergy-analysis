{
 "cells": [
  {
   "cell_type": "code",
   "execution_count": null,
   "metadata": {},
   "outputs": [],
   "source": [
    "# NV Energy Analysis Notebook\n",
    "\n",
    "import utils\n",
    "import pandas as pd\n",
    "import matplotlib.pyplot as plt\n",
    "import seaborn as sns\n",
    "from scipy import stats\n",
    "import numpy as np\n",
    "\n",
    "# Load and process data\n",
    "data_directory = 'data'\n",
    "demand_data, usage_data = utils.load_and_process_data(data_directory)\n",
    "\n",
    "# Resample data to hourly intervals\n",
    "demand_hourly, usage_hourly = utils.resample_hourly(demand_data, usage_data)\n",
    "\n",
    "# Get user rate information\n",
    "rates = utils.get_user_rates()\n",
    "\n",
    "# Add rate and cost information to usage data\n",
    "usage_hourly = utils.add_rate_and_cost(usage_hourly, rates)"
   ]
  },
  {
   "cell_type": "code",
   "execution_count": null,
   "metadata": {},
   "outputs": [],
   "source": [
    "# 1. Time Series Plot with Confidence Bands\n",
    "plt.figure(figsize=(15, 8))\n",
    "sns.lineplot(x=usage_hourly.index, y=usage_hourly['usage'], errorbar=('ci', 95))\n",
    "plt.title('Hourly Energy Usage with 95% Confidence Interval')\n",
    "plt.xlabel('Date')\n",
    "plt.ylabel('Energy Usage (KWH)')\n",
    "plt.xticks(rotation=45)\n",
    "plt.tight_layout()\n",
    "plt.show()"
   ]
  },
  {
   "cell_type": "code",
   "execution_count": null,
   "metadata": {},
   "outputs": [],
   "source": [
    "# 2. Histogram of Energy Usage by Hour of Day\n",
    "usage_hourly.index = usage_hourly.index.tz_localize(None)\n",
    "hourly_usage = usage_hourly['usage'].groupby(usage_hourly.index.hour).mean()\n",
    "plt.figure(figsize=(12, 6))\n",
    "sns.barplot(x=hourly_usage.index, y=hourly_usage.values)\n",
    "plt.title('Average Energy Usage by Hour of Day')\n",
    "plt.xlabel('Hour of Day')\n",
    "plt.ylabel('Average Energy Usage (KWH)')\n",
    "plt.tight_layout()\n",
    "plt.show()"
   ]
  },
  {
   "cell_type": "code",
   "execution_count": null,
   "metadata": {},
   "outputs": [],
   "source": [
    "# 3. Heatmap of Energy Usage by Day of Week and Hour\n",
    "usage_pivot = usage_hourly['usage'].groupby([usage_hourly.index.dayofweek, usage_hourly.index.hour]).mean().unstack()\n",
    "plt.figure(figsize=(12, 8))\n",
    "sns.heatmap(usage_pivot, cmap='YlOrRd', annot=True, fmt='.2f')\n",
    "plt.title('Energy Usage Heatmap: Day of Week vs Hour of Day')\n",
    "plt.xlabel('Hour of Day')\n",
    "plt.ylabel('Day of Week')\n",
    "plt.yticks(ticks=range(7), labels=['Mon', 'Tue', 'Wed', 'Thu', 'Fri', 'Sat', 'Sun'])\n",
    "plt.tight_layout()\n",
    "plt.show()"
   ]
  },
  {
   "cell_type": "code",
   "execution_count": null,
   "metadata": {},
   "outputs": [],
   "source": [
    "# 4. Monthly Energy Usage Box Plot\n",
    "monthly_usage = usage_hourly['usage'].resample('ME').sum()\n",
    "plt.figure(figsize=(15, 8))\n",
    "sns.boxplot(x=monthly_usage.index.month, y=monthly_usage.values)\n",
    "plt.title('Monthly Energy Usage Distribution')\n",
    "plt.xlabel('Month')\n",
    "plt.ylabel('Total Monthly Energy Usage (KWH)')\n",
    "plt.xticks(range(12), ['Jan', 'Feb', 'Mar', 'Apr', 'May', 'Jun', 'Jul', 'Aug', 'Sep', 'Oct', 'Nov', 'Dec'])\n",
    "plt.tight_layout()\n",
    "plt.show()"
   ]
  },
  {
   "cell_type": "code",
   "execution_count": null,
   "metadata": {},
   "outputs": [],
   "source": [
    "# 5. Energy Usage vs. Time of Day Scatter Plot with Trend Line\n",
    "hourly_data = pd.DataFrame({'hour': usage_hourly.index.hour, 'usage': usage_hourly['usage'].values})\n",
    "plt.figure(figsize=(12, 6))\n",
    "sns.regplot(x='hour', y='usage', data=hourly_data, scatter_kws={'alpha':0.3}, line_kws={'color': 'red'})\n",
    "plt.title('Energy Usage vs. Time of Day with Trend Line')\n",
    "plt.xlabel('Hour of Day')\n",
    "plt.ylabel('Energy Usage (KWH)')\n",
    "plt.tight_layout()\n",
    "plt.show()"
   ]
  },
  {
   "cell_type": "code",
   "execution_count": null,
   "metadata": {},
   "outputs": [],
   "source": [
    "# 6. Time Series Plot with Cost Overlay\n",
    "plt.figure(figsize=(15, 8))\n",
    "ax1 = plt.gca()\n",
    "ax2 = ax1.twinx()\n",
    "\n",
    "sns.lineplot(x=usage_hourly.index, y=usage_hourly['usage'], ax=ax1, color='blue', label='Usage')\n",
    "sns.lineplot(x=usage_hourly.index, y=usage_hourly['cost'], ax=ax2, color='red', label='Cost')\n",
    "\n",
    "ax1.set_xlabel('Date')\n",
    "ax1.set_ylabel('Energy Usage (KWH)', color='blue')\n",
    "ax2.set_ylabel('Cost ($)', color='red')\n",
    "\n",
    "plt.title('Hourly Energy Usage and Cost')\n",
    "plt.legend(loc='upper left')\n",
    "plt.tight_layout()\n",
    "plt.show()"
   ]
  },
  {
   "cell_type": "code",
   "execution_count": null,
   "metadata": {},
   "outputs": [],
   "source": [
    "# 7. Heatmap of Energy Cost by Day of Week and Hour\n",
    "cost_pivot = usage_hourly['cost'].groupby([usage_hourly.index.dayofweek, usage_hourly.index.hour]).mean().unstack()\n",
    "plt.figure(figsize=(12, 8))\n",
    "sns.heatmap(cost_pivot, cmap='YlOrRd', annot=True, fmt='.2f')\n",
    "plt.title('Energy Cost Heatmap: Day of Week vs Hour of Day')\n",
    "plt.xlabel('Hour of Day')\n",
    "plt.ylabel('Day of Week')\n",
    "plt.yticks(ticks=range(7), labels=['Mon', 'Tue', 'Wed', 'Thu', 'Fri', 'Sat', 'Sun'])\n",
    "plt.tight_layout()\n",
    "plt.show()"
   ]
  },
  {
   "cell_type": "code",
   "execution_count": null,
   "metadata": {},
   "outputs": [],
   "source": [
    "# 8. Monthly Energy Cost Box Plot with Season Highlight\n",
    "monthly_cost = usage_hourly['cost'].resample('ME').sum()\n",
    "plt.figure(figsize=(15, 8))\n",
    "sns.boxplot(x=monthly_cost.index.month, y=monthly_cost.values)\n",
    "plt.title('Monthly Energy Cost Distribution')\n",
    "plt.xlabel('Month')\n",
    "plt.ylabel('Total Monthly Energy Cost ($)')\n",
    "plt.xticks(range(12), ['Jan', 'Feb', 'Mar', 'Apr', 'May', 'Jun', 'Jul', 'Aug', 'Sep', 'Oct', 'Nov', 'Dec'])\n",
    "\n",
    "# Highlight summer months\n",
    "summer_range = range(rates['summer_start']-1, rates['summer_end'])\n",
    "for month in summer_range:\n",
    "    plt.axvspan(month-0.5, month+0.5, facecolor='yellow', alpha=0.3)\n",
    "plt.text(np.mean(summer_range), plt.ylim()[1], 'Summer Rates', ha='center', va='bottom')\n",
    "\n",
    "plt.tight_layout()\n",
    "plt.show()"
   ]
  },
  {
   "cell_type": "code",
   "execution_count": null,
   "metadata": {},
   "outputs": [],
   "source": [
    "# 9. Usage vs Cost Scatter Plot with Peak/Off-Peak Highlight\n",
    "plt.figure(figsize=(12, 8))\n",
    "peak_mask = (usage_hourly.index.hour >= rates['peak_start']) & (usage_hourly.index.hour < rates['peak_end'])\n",
    "sns.scatterplot(x='usage', y='cost', data=usage_hourly[peak_mask], label='Peak Hours', color='red', alpha=0.5)\n",
    "sns.scatterplot(x='usage', y='cost', data=usage_hourly[~peak_mask], label='Off-Peak Hours', color='blue', alpha=0.5)\n",
    "plt.title('Energy Usage vs Cost: Peak and Off-Peak Hours')\n",
    "plt.xlabel('Energy Usage (KWH)')\n",
    "plt.ylabel('Cost ($)')\n",
    "plt.legend()\n",
    "plt.tight_layout()\n",
    "plt.show()"
   ]
  },
  {
   "cell_type": "code",
   "execution_count": null,
   "metadata": {},
   "outputs": [],
   "source": [
    "# 10. Daily Usage Pattern with Rate Periods\n",
    "daily_usage = usage_hourly['usage'].groupby(usage_hourly.index.hour).mean()\n",
    "plt.figure(figsize=(12, 6))\n",
    "sns.lineplot(x=daily_usage.index, y=daily_usage.values)\n",
    "plt.title('Average Daily Usage Pattern with Rate Periods')\n",
    "plt.xlabel('Hour of Day')\n",
    "plt.ylabel('Average Energy Usage (KWH)')\n",
    "\n",
    "# Highlight peak hours\n",
    "plt.axvspan(rates['peak_start'], rates['peak_end'], facecolor='red', alpha=0.3)\n",
    "plt.text(np.mean([rates['peak_start'], rates['peak_end']]), plt.ylim()[1], 'Peak Hours', ha='center', va='bottom')\n",
    "\n",
    "plt.tight_layout()\n",
    "plt.show()"
   ]
  },
  {
   "cell_type": "code",
   "execution_count": null,
   "metadata": {},
   "outputs": [],
   "source": [
    "# Calculate and display statistics\n",
    "total_cost = usage_hourly['cost'].sum()\n",
    "avg_daily_cost = usage_hourly['cost'].resample('D').sum().mean()\n",
    "peak_mask = (usage_hourly.index.hour >= rates['peak_start']) & (usage_hourly.index.hour < rates['peak_end'])\n",
    "peak_usage_cost = usage_hourly[peak_mask]['cost'].sum()\n",
    "off_peak_usage_cost = usage_hourly[~peak_mask]['cost'].sum()\n",
    "\n",
    "print(f\"Total Cost: ${total_cost:.2f}\")\n",
    "print(f\"Average Daily Cost: ${avg_daily_cost:.2f}\")\n",
    "print(f\"Peak Hours Cost: ${peak_usage_cost:.2f} ({peak_usage_cost/total_cost*100:.1f}% of total)\")\n",
    "print(f\"Off-Peak Hours Cost: ${off_peak_usage_cost:.2f} ({off_peak_usage_cost/total_cost*100:.1f}% of total)\")"
   ]
  },
  {
   "cell_type": "code",
   "execution_count": null,
   "metadata": {},
   "outputs": [],
   "source": [
    "# Get and display peak usage times\n",
    "peak_times = utils.get_peak_times(usage_hourly['usage'])\n",
    "print(\"\\nPeak Usage Times:\")\n",
    "print(peak_times)\n",
    "\n",
    "print(\"Analysis complete.\")"
   ]
  }
 ],
 "metadata": {
  "language_info": {
   "name": "python"
  }
 },
 "nbformat": 4,
 "nbformat_minor": 2
}
